{
 "cells": [
  {
   "cell_type": "code",
   "execution_count": 2,
   "metadata": {},
   "outputs": [],
   "source": [
    "import arcpy\n",
    "\n",
    "arcpy.env.workspace = \"L:/git/GIS5572L/Lab1/Lab1.gdb\""
   ]
  },
  {
   "cell_type": "code",
   "execution_count": 2,
   "metadata": {},
   "outputs": [],
   "source": [
    "path = \"L:/git/GIS5572L/Lab1/Lab1.gdb\"\n",
    "\n",
    "\n",
    "\n",
    "sp_ref = \"L:/git/GIS5572L/Lab1/Lab1.gdb/GUIPoint\"\n",
    "\n"
   ]
  },
  {
   "cell_type": "code",
   "execution_count": 3,
   "metadata": {},
   "outputs": [
    {
     "data": {
      "text/html": [
       "<div class='gpresult'><h2>Messages</h2><div id='messages' data-messages='[\"Start Time: Saturday, February 11, 2023 12:54:59 PM\",\"Succeeded at Saturday, February 11, 2023 12:55:00 PM (Elapsed Time: 0.85 seconds)\"]' data-show='true'><div id = 'default' /></div></div>"
      ],
      "text/plain": [
       "<Result 'L:\\\\git\\\\GIS5572L\\\\Lab1\\\\Lab1.gdb\\\\ArcpyPoint'>"
      ]
     },
     "execution_count": 3,
     "metadata": {},
     "output_type": "execute_result"
    }
   ],
   "source": [
    "arcpy.CreateFeatureclass_management(out_path=path, \n",
    "                                    out_name=\"ArcpyPoint\", \n",
    "                                    geometry_type=\"POINT\", \n",
    "                                    spatial_reference=sp_ref)"
   ]
  },
  {
   "cell_type": "code",
   "execution_count": 4,
   "metadata": {},
   "outputs": [],
   "source": [
    "pnt = arcpy.Point(-10379799.84, 5617055.55)\n",
    "pntGeom = arcpy.PointGeometry(pnt, spatial_reference= sp_ref)\n",
    "cursor = arcpy.da.InsertCursor(\"ArcpyPoint\", [\"SHAPE@\"])\n",
    "cursor.insertRow(pntGeom) ##Takes a momment to show in arcpro\n",
    "del cursor \n"
   ]
  },
  {
   "cell_type": "code",
   "execution_count": 5,
   "metadata": {},
   "outputs": [
    {
     "data": {
      "text/html": [
       "<div class='gpresult'><h2>Messages</h2><div id='messages' data-messages='[\"Start Time: Saturday, February 11, 2023 12:55:02 PM\",\"Succeeded at Saturday, February 11, 2023 12:55:03 PM (Elapsed Time: 0.75 seconds)\"]' data-show='true'><div id = 'default' /></div></div>"
      ],
      "text/plain": [
       "<Result 'L:\\\\git\\\\GIS5572L\\\\Lab1\\\\Lab1.gdb\\\\ArcpyLine'>"
      ]
     },
     "execution_count": 5,
     "metadata": {},
     "output_type": "execute_result"
    }
   ],
   "source": [
    "arcpy.CreateFeatureclass_management(out_path=path, \n",
    "                                    out_name=\"ArcpyLine\", \n",
    "                                    geometry_type=\"POLYLINE\", \n",
    "                                    spatial_reference=sp_ref)"
   ]
  },
  {
   "cell_type": "code",
   "execution_count": 6,
   "metadata": {
    "scrolled": false
   },
   "outputs": [],
   "source": [
    "pnt1 = arcpy.Point(-10379799.84, 5617055.55)\n",
    "pnt2 = arcpy.Point(-10362066.31, 5614628.91)\n",
    "pntList = [pnt1,pnt2]\n",
    "pntArray = arcpy.Array(pntList)\n",
    "plyLine = arcpy.Polyline(pntArray, spatial_reference=sp_ref)\n",
    "cursor = arcpy.da.InsertCursor(\"ArcpyLine\", [\"SHAPE@\"])\n",
    "cursor.insertRow([plyLine])\n",
    "del cursor"
   ]
  },
  {
   "cell_type": "code",
   "execution_count": 7,
   "metadata": {},
   "outputs": [
    {
     "data": {
      "text/html": [
       "<div class='gpresult'><h2>Messages</h2><div id='messages' data-messages='[\"Start Time: Saturday, February 11, 2023 12:55:04 PM\",\"Succeeded at Saturday, February 11, 2023 12:55:05 PM (Elapsed Time: 0.76 seconds)\"]' data-show='true'><div id = 'default' /></div></div>"
      ],
      "text/plain": [
       "<Result 'L:\\\\git\\\\GIS5572L\\\\Lab1\\\\Lab1.gdb\\\\ArcpyPolygon'>"
      ]
     },
     "execution_count": 7,
     "metadata": {},
     "output_type": "execute_result"
    }
   ],
   "source": [
    "arcpy.CreateFeatureclass_management(out_path=path, \n",
    "                                    out_name=\"ArcpyPolygon\", \n",
    "                                    geometry_type=\"POLYGON\", \n",
    "                                    spatial_reference=sp_ref)"
   ]
  },
  {
   "cell_type": "code",
   "execution_count": 11,
   "metadata": {},
   "outputs": [],
   "source": [
    "pnt1 = arcpy.Point(-10371362.179571, 5622593.133238)\n",
    "pnt2 = arcpy.Point(-10371405.13371, 5622592.356959)\n",
    "pnt3 = arcpy.Point(-10371405.39247, 5622626.254503)\n",
    "pnt4 = arcpy.Point(-10371361.920811, 5622626.772022)\n",
    "\n",
    "pntList = [pnt1, pnt2, pnt3, pnt4]\n",
    "\n",
    "pntArray = arcpy.Array(pntList)\n",
    "\n",
    "plygon = arcpy.Polygon(pntArray, spatial_reference=sp_ref)\n",
    "\n",
    "cursor = arcpy.da.InsertCursor(\"ArcpyPolygon\", [\"SHAPE@\"])\n",
    "cursor.insertRow([plygon])\n",
    "del cursor"
   ]
  },
  {
   "cell_type": "code",
   "execution_count": 9,
   "metadata": {},
   "outputs": [
    {
     "name": "stdout",
     "output_type": "stream",
     "text": [
      "(1, (-10371383.685064316, 5622609.662455643), 153.9741761504283, 1459.2196892008749)\n"
     ]
    }
   ],
   "source": [
    "## All Info\n",
    "cursor = arcpy.da.SearchCursor(\"ArcpyPolygon\", \"*\")\n",
    "for row in cursor:\n",
    "    print(row)\n",
    "del cursor"
   ]
  },
  {
   "cell_type": "code",
   "execution_count": 10,
   "metadata": {},
   "outputs": [
    {
     "name": "stdout",
     "output_type": "stream",
     "text": [
      "(<Polygon object at 0x29472889ac0[0x29467bff810]>,)\n"
     ]
    }
   ],
   "source": [
    "## Just Geom\n",
    "cursor = arcpy.da.SearchCursor(\"ArcpyPolygon\", \"SHAPE@\")\n",
    "for row in cursor:\n",
    "    print(row)\n",
    "del cursor\n"
   ]
  },
  {
   "cell_type": "code",
   "execution_count": 11,
   "metadata": {},
   "outputs": [
    {
     "data": {
      "text/html": [
       "<div class='gpresult'><h2>Messages</h2><div id='messages' data-messages='[\"Start Time: Saturday, February 11, 2023 12:55:07 PM\",\"Succeeded at Saturday, February 11, 2023 12:55:08 PM (Elapsed Time: 0.72 seconds)\"]' data-show='true'><div id = 'default' /></div></div>"
      ],
      "text/plain": [
       "<Result 'L:\\\\git\\\\GIS5572L\\\\Lab1\\\\Lab1.gdb\\\\ArcPolyStat'>"
      ]
     },
     "execution_count": 11,
     "metadata": {},
     "output_type": "execute_result"
    }
   ],
   "source": [
    "arcpy.analysis.Statistics(\"ArcpyPolygon\", \n",
    "                          \"ArcPolyStat\", \n",
    "                          [[\"Shape_Length\", \"SUM\"]]) ##Total Parameter of Polygon"
   ]
  },
  {
   "cell_type": "code",
   "execution_count": 12,
   "metadata": {},
   "outputs": [
    {
     "data": {
      "text/html": [
       "<div class='gpresult'><h2>Messages</h2><div id='messages' data-messages='[\"Start Time: Saturday, February 11, 2023 12:55:08 PM\",\"Failed to convert: ArcpyPolygon. &#39;str&#39; object has no attribute &#39;overwriteOutput&#39;\",\"Succeeded at Saturday, February 11, 2023 12:55:09 PM (Elapsed Time: 0.57 seconds)\"]' data-show='true'><div id = 'default' /></div></div>"
      ],
      "text/plain": [
       "<Result 'L:\\\\git\\\\GIS5572L\\\\Lab1'>"
      ]
     },
     "execution_count": 12,
     "metadata": {},
     "output_type": "execute_result"
    }
   ],
   "source": [
    "arcpy.conversion.FeatureClassToShapefile(\"ArcpyPolygon\", \"L:/git/GIS5572L/Lab1\")"
   ]
  },
  {
   "cell_type": "code",
   "execution_count": 13,
   "metadata": {},
   "outputs": [
    {
     "data": {
      "text/html": [
       "<div class='gpresult'><h2>Messages</h2><div id='messages' data-messages='[\"Start Time: Saturday, February 11, 2023 12:55:15 PM\",\"Failed to convert: ArcpyPolygon. &#39;str&#39; object has no attribute &#39;overwriteOutput&#39;\",\"Succeeded at Saturday, February 11, 2023 12:55:16 PM (Elapsed Time: 0.64 seconds)\"]' data-show='true'><div id = 'default' /></div></div>"
      ],
      "text/plain": [
       "<Result 'L:\\\\git\\\\GIS5572L\\\\Lab1\\\\Test1.gdb'>"
      ]
     },
     "execution_count": 13,
     "metadata": {},
     "output_type": "execute_result"
    }
   ],
   "source": [
    "arcpy.FeatureClassToGeodatabase_conversion(\"ArcpyPolygon\", \"L:/git/GIS5572L/Lab1/Test1.gdb\")"
   ]
  },
  {
   "cell_type": "code",
   "execution_count": 8,
   "metadata": {},
   "outputs": [],
   "source": [
    "import fiona\n",
    "from fiona.crs import from_epsg\n",
    "from shapely.geometry import MultiPoint, MultiLineString, Polygon, MultiPolygon\n",
    "import pprint\n"
   ]
  },
  {
   "cell_type": "code",
   "execution_count": 15,
   "metadata": {},
   "outputs": [
    {
     "data": {
      "image/svg+xml": [
       "<svg xmlns=\"http://www.w3.org/2000/svg\" xmlns:xlink=\"http://www.w3.org/1999/xlink\" width=\"100.0\" height=\"100.0\" viewBox=\"-1.0 0.0 2.0 2.0\" preserveAspectRatio=\"xMinYMin meet\"><g transform=\"matrix(1,0,0,-1,0,2.0)\"><g><circle cx=\"0.0\" cy=\"1.0\" r=\"0.06\" stroke=\"#555555\" stroke-width=\"0.02\" fill=\"#66cc99\" opacity=\"0.6\" /></g></g></svg>"
      ],
      "text/plain": [
       "<shapely.geometry.multipoint.MultiPoint object at 0x00000294728869D0>"
      ]
     },
     "execution_count": 15,
     "metadata": {},
     "output_type": "execute_result"
    }
   ],
   "source": [
    "coords = [(0,1)]\n",
    "point = MultiPoint(coords)\n",
    "point"
   ]
  },
  {
   "cell_type": "code",
   "execution_count": 16,
   "metadata": {},
   "outputs": [
    {
     "data": {
      "image/svg+xml": [
       "<svg xmlns=\"http://www.w3.org/2000/svg\" xmlns:xlink=\"http://www.w3.org/1999/xlink\" width=\"100.0\" height=\"100.0\" viewBox=\"-0.04 0.96 0.08 1.08\" preserveAspectRatio=\"xMinYMin meet\"><g transform=\"matrix(1,0,0,-1,0,3.0)\"><g><polyline fill=\"none\" stroke=\"#66cc99\" stroke-width=\"0.0216\" points=\"0.0,1.0 0.0,2.0\" opacity=\"0.8\" /></g></g></svg>"
      ],
      "text/plain": [
       "<shapely.geometry.multilinestring.MultiLineString object at 0x00000294916737F0>"
      ]
     },
     "execution_count": 16,
     "metadata": {},
     "output_type": "execute_result"
    }
   ],
   "source": [
    "coords = [[(0,1), (0,2)]]\n",
    "line= MultiLineString(coords)\n",
    "line"
   ]
  },
  {
   "cell_type": "code",
   "execution_count": 12,
   "metadata": {},
   "outputs": [
    {
     "data": {
      "image/svg+xml": [
       "<svg xmlns=\"http://www.w3.org/2000/svg\" xmlns:xlink=\"http://www.w3.org/1999/xlink\" width=\"100.0\" height=\"100.0\" viewBox=\"-0.04 0.96 1.08 1.08\" preserveAspectRatio=\"xMinYMin meet\"><g transform=\"matrix(1,0,0,-1,0,3.0)\"><path fill-rule=\"evenodd\" fill=\"#66cc99\" stroke=\"#555555\" stroke-width=\"0.0216\" opacity=\"0.6\" d=\"M 1.0,2.0 L 1.0,1.0 L 0.0,1.0 L 0.0,2.0 L 1.0,2.0 z\" /></g></svg>"
      ],
      "text/plain": [
       "<shapely.geometry.polygon.Polygon object at 0x000002C1E6DB9130>"
      ]
     },
     "execution_count": 12,
     "metadata": {},
     "output_type": "execute_result"
    }
   ],
   "source": [
    "coords = [(1,2), (1,1), (0,1),  (0,2)]\n",
    "poly = Polygon(coords)\n",
    "poly"
   ]
  },
  {
   "cell_type": "code",
   "execution_count": 13,
   "metadata": {},
   "outputs": [
    {
     "data": {
      "text/plain": [
       "'POLYGON ((1 2, 1 1, 0 1, 0 2, 1 2))'"
      ]
     },
     "execution_count": 13,
     "metadata": {},
     "output_type": "execute_result"
    }
   ],
   "source": [
    "poly.wkt"
   ]
  },
  {
   "cell_type": "code",
   "execution_count": 1,
   "metadata": {},
   "outputs": [],
   "source": [
    "import psycopg2"
   ]
  },
  {
   "cell_type": "code",
   "execution_count": 4,
   "metadata": {},
   "outputs": [],
   "source": [
    "conn = psycopg2.connect(host= '34.171.19.177', \n",
    "                              database='lab1', \n",
    "                              user='postgres', \n",
    "                              password='starman1')\n",
    "cursor = conn.cursor()\n",
    "cursor.execute(\"DROP TABLE IF EXISTS table_name;\")\n",
    "cursor.execute(\"CREATE TABLE table_name(ID VARCHAR, geom GEOMETRY);\")\n",
    "conn.commit()\n",
    "conn.close()"
   ]
  },
  {
   "cell_type": "code",
   "execution_count": 31,
   "metadata": {},
   "outputs": [],
   "source": [
    "coords = [(-93.1844384,44.9834832)]\n",
    "point = MultiPoint(coords)\n",
    "wkt = point.wkt\n",
    "conn = psycopg2.connect(host= '34.171.19.177', \n",
    "                              database='lab1', \n",
    "                              user='postgres', \n",
    "                              password='starman1')\n",
    "cursor = conn.cursor()\n",
    "cursor.execute(\"DROP TABLE IF EXISTS table_point;\")\n",
    "cursor.execute(\"CREATE TABLE table_point(ID SERIAL, col1 VARCHAR);\")\n",
    "cursor.execute(\"SELECT AddGeometryColumn('table_point', 'geom', 4326, 'MULTIPOINT', 2)\")\n",
    "cursor.execute(\"INSERT INTO table_point(geom) VALUES (\" + \"ST_GeometryFromText(\" + \"'\" + wkt + \"', 4326))\")\n",
    "conn.commit()\n",
    "conn.close()"
   ]
  },
  {
   "cell_type": "code",
   "execution_count": 34,
   "metadata": {},
   "outputs": [],
   "source": [
    "coords = [[(-93.1698717, 44.9792762), (-93.1728347, 44.9794954)]]\n",
    "line = MultiLineString(coords)\n",
    "wkt = line.wkt\n",
    "conn = psycopg2.connect(host= '34.171.19.177', \n",
    "                              database='lab1', \n",
    "                              user='postgres', \n",
    "                              password='starman1')\n",
    "cursor = conn.cursor()\n",
    "cursor.execute(\"DROP TABLE IF EXISTS table_line;\")\n",
    "cursor.execute(\"CREATE TABLE table_line(ID SERIAL, col1 VARCHAR);\")\n",
    "cursor.execute(\"SELECT AddGeometryColumn('table_line', 'geom', 4326, 'MULTILINESTRING', 2)\")\n",
    "cursor.execute(\"INSERT INTO table_line(geom) VALUES (\" + \"ST_GeometryFromText(\" + \"'\" + wkt + \"', 4326))\")\n",
    "conn.commit()\n",
    "conn.close()"
   ]
  },
  {
   "cell_type": "code",
   "execution_count": 20,
   "metadata": {},
   "outputs": [],
   "source": [
    "coords = [(-93.1561248, 45.0077567), (-93.1560998, 45.0072108), (-93.1553152, 45.0071887), (-93.1553136, 45.0077744)]\n",
    "poly = Polygon(coords)\n",
    " \n",
    "wkt = poly.wkt\n",
    "conn = psycopg2.connect(host= '34.171.19.177', \n",
    "                              database='lab1', \n",
    "                              user='postgres', \n",
    "                              password='starman1')\n",
    "cursor = conn.cursor()\n",
    "cursor.execute(\"DROP TABLE IF EXISTS table_poly;\")\n",
    "cursor.execute(\"CREATE TABLE table_poly(ID SERIAL, col1 VARCHAR);\")\n",
    "cursor.execute(\"SELECT AddGeometryColumn('table_poly', 'geom', 4326, 'POLYGON', 2);\")\n",
    "cursor.execute(\"INSERT INTO table_poly(geom) VALUES (\" + \"ST_GeometryFromText(\" + \"'\" + wkt + \"', 4326));\")\n",
    "conn.commit()\n",
    "conn.close()"
   ]
  },
  {
   "cell_type": "code",
   "execution_count": 21,
   "metadata": {},
   "outputs": [
    {
     "data": {
      "image/svg+xml": [
       "<svg xmlns=\"http://www.w3.org/2000/svg\" xmlns:xlink=\"http://www.w3.org/1999/xlink\" width=\"100.0\" height=\"100.0\" viewBox=\"-93.156157248 45.007156252 0.0008760959999989382 0.0006505959999998367\" preserveAspectRatio=\"xMinYMin meet\"><g transform=\"matrix(1,0,0,-1,0,90.0149631)\"><path fill-rule=\"evenodd\" fill=\"#66cc99\" stroke=\"#555555\" stroke-width=\"1.7521919999978764e-05\" opacity=\"0.6\" d=\"M -93.1561248,45.0077567 L -93.1560998,45.0072108 L -93.1553152,45.0071887 L -93.1553136,45.0077744 L -93.1561248,45.0077567 z\" /></g></svg>"
      ],
      "text/plain": [
       "<shapely.geometry.polygon.Polygon object at 0x000002C1B9571A30>"
      ]
     },
     "execution_count": 21,
     "metadata": {},
     "output_type": "execute_result"
    }
   ],
   "source": [
    "poly"
   ]
  },
  {
   "cell_type": "code",
   "execution_count": null,
   "metadata": {},
   "outputs": [],
   "source": []
  }
 ],
 "metadata": {
  "kernelspec": {
   "display_name": "ArcGISPro",
   "language": "Python",
   "name": "python3"
  },
  "language_info": {
   "file_extension": ".py",
   "name": "python",
   "version": "3"
  }
 },
 "nbformat": 4,
 "nbformat_minor": 2
}
